{
 "cells": [
  {
   "cell_type": "code",
   "execution_count": 98,
   "metadata": {},
   "outputs": [
    {
     "name": "stdout",
     "output_type": "stream",
     "text": [
      "0.4026946107784431\n"
     ]
    }
   ],
   "source": [
    "import pandas as pd\n",
    "# datat=np.loadtxt(\"trainT.csv\",delimiter=\",\")\n",
    "datat=pd.read_csv('trainT.csv', delimiter=',')\n",
    "print(datat['Survived'].mean())\n",
    "# print(datat.shape)\n",
    "# x=datat.iloc[:,:datat.shape[1]-1]\n",
    "# y=datat.iloc[:,datat.shape[1]-1]\n",
    "# clf=LogisticRegression()\n",
    "# clf.fit(x,y)\n",
    "# data=np.loadtxt(\"testT.csv\",delimiter=\",\")\n",
    "# pred=clf.predict(data)\n",
    "# np.savetxt(X=pred,fname=\"titanic.csv\",fmt=\"%5f\")"
   ]
  },
  {
   "cell_type": "code",
   "execution_count": 99,
   "metadata": {},
   "outputs": [
    {
     "data": {
      "text/plain": [
       "Pclass      535\n",
       "Name        535\n",
       "Sex         535\n",
       "Age         535\n",
       "SibSp       535\n",
       "Parch       535\n",
       "Ticket      535\n",
       "Fare        535\n",
       "Embarked    535\n",
       "Survived    535\n",
       "dtype: int64"
      ]
     },
     "execution_count": 99,
     "metadata": {},
     "output_type": "execute_result"
    }
   ],
   "source": [
    "datat.count()\n",
    "datat=datat.drop(['Cabin'],axis=1)\n",
    "# datat[\"Age\"] = datat[\"Age\"].fillna(\"NA\")\n",
    "# datat.Age.fillna(datat.Age.mean(), inplace=True)  \n",
    "datat=datat.dropna()\n",
    "datat.count()"
   ]
  },
  {
   "cell_type": "code",
   "execution_count": 100,
   "metadata": {},
   "outputs": [],
   "source": [
    "from sklearn import preprocessing\n",
    "def preprocess_titanic_df(df):\n",
    "    processed_df = df.copy()\n",
    "    le = preprocessing.LabelEncoder()\n",
    "    processed_df.Sex = le.fit_transform(processed_df.Sex)           # to convert strings into integer keys\n",
    "    processed_df.Embarked = le.fit_transform(processed_df.Embarked)\n",
    "    processed_df = processed_df.drop(['Name','Ticket'],axis=1)      # dropping them as they have non-categorical string values\n",
    "    return processed_df\n"
   ]
  },
  {
   "cell_type": "code",
   "execution_count": 101,
   "metadata": {},
   "outputs": [
    {
     "data": {
      "text/plain": [
       "Pclass      535\n",
       "Sex         535\n",
       "Age         535\n",
       "SibSp       535\n",
       "Parch       535\n",
       "Fare        535\n",
       "Embarked    535\n",
       "Survived    535\n",
       "dtype: int64"
      ]
     },
     "execution_count": 101,
     "metadata": {},
     "output_type": "execute_result"
    }
   ],
   "source": [
    "processed_df = preprocess_titanic_df(datat)\n",
    "processed_df.count()"
   ]
  },
  {
   "cell_type": "code",
   "execution_count": 103,
   "metadata": {},
   "outputs": [
    {
     "name": "stdout",
     "output_type": "stream",
     "text": [
      "Pclass      535\n",
      "Sex         535\n",
      "Age         535\n",
      "SibSp       535\n",
      "Parch       535\n",
      "Fare        535\n",
      "Embarked    535\n",
      "dtype: int64\n",
      "535\n"
     ]
    }
   ],
   "source": [
    "y = processed_df['Survived'].values\n",
    "x = processed_df.drop(['Survived'], axis=1).values"
   ]
  },
  {
   "cell_type": "code",
   "execution_count": 88,
   "metadata": {},
   "outputs": [
    {
     "name": "stderr",
     "output_type": "stream",
     "text": [
      "C:\\Users\\Stuti\\Anaconda3\\lib\\site-packages\\sklearn\\linear_model\\logistic.py:433: FutureWarning: Default solver will be changed to 'lbfgs' in 0.22. Specify a solver to silence this warning.\n",
      "  FutureWarning)\n"
     ]
    },
    {
     "data": {
      "text/plain": [
       "LogisticRegression(C=1.0, class_weight=None, dual=False, fit_intercept=True,\n",
       "          intercept_scaling=1, max_iter=100, multi_class='warn',\n",
       "          n_jobs=None, penalty='l2', random_state=None, solver='warn',\n",
       "          tol=0.0001, verbose=0, warm_start=False)"
      ]
     },
     "execution_count": 88,
     "metadata": {},
     "output_type": "execute_result"
    }
   ],
   "source": [
    "from sklearn.linear_model import LogisticRegression\n",
    "clf=LogisticRegression()\n",
    "clf.fit(x,y)\n"
   ]
  },
  {
   "cell_type": "code",
   "execution_count": 93,
   "metadata": {},
   "outputs": [
    {
     "data": {
      "text/plain": [
       "Pclass      177\n",
       "Name        177\n",
       "Sex         177\n",
       "Age         177\n",
       "SibSp       177\n",
       "Parch       177\n",
       "Ticket      177\n",
       "Fare        177\n",
       "Embarked    177\n",
       "dtype: int64"
      ]
     },
     "execution_count": 93,
     "metadata": {},
     "output_type": "execute_result"
    }
   ],
   "source": [
    "data=pd.read_csv(\"testT.csv\",delimiter=\",\")\n",
    "data.count()\n",
    "data=data.drop(['Cabin'],axis=1)\n",
    "# data[\"Age\"] = data[\"Age\"].fillna(data.Age.mean(), inplace=True)\n",
    "data=data.dropna()\n",
    "data.count()\n"
   ]
  },
  {
   "cell_type": "code",
   "execution_count": 94,
   "metadata": {},
   "outputs": [],
   "source": [
    "from sklearn import preprocessing\n",
    "def preprocess_titanic_df(df):\n",
    "    processed_df = df.copy()\n",
    "    le = preprocessing.LabelEncoder()\n",
    "    processed_df.Sex = le.fit_transform(processed_df.Sex)           # to convert strings into integer keys\n",
    "    processed_df.Embarked = le.fit_transform(processed_df.Embarked)\n",
    "    processed_df = processed_df.drop(['Name','Ticket'],axis=1)      # dropping them as they have non-categorical string values\n",
    "    return processed_df\n"
   ]
  },
  {
   "cell_type": "code",
   "execution_count": 95,
   "metadata": {},
   "outputs": [
    {
     "data": {
      "text/plain": [
       "Pclass      177\n",
       "Sex         177\n",
       "Age         177\n",
       "SibSp       177\n",
       "Parch       177\n",
       "Fare        177\n",
       "Embarked    177\n",
       "dtype: int64"
      ]
     },
     "execution_count": 95,
     "metadata": {},
     "output_type": "execute_result"
    }
   ],
   "source": [
    "processed_dft = preprocess_titanic_df(data)\n",
    "processed_dft.count()"
   ]
  },
  {
   "cell_type": "code",
   "execution_count": 97,
   "metadata": {},
   "outputs": [
    {
     "data": {
      "text/plain": [
       "1.0"
      ]
     },
     "execution_count": 97,
     "metadata": {},
     "output_type": "execute_result"
    }
   ],
   "source": [
    "testdata=processed_dft.values\n",
    "pred=clf.predict(testdata)\n",
    "np.savetxt(X=pred,fname=\"titanic.csv\",fmt=\"%5f\")\n",
    "clf.score(testdata,pred)"
   ]
  },
  {
   "cell_type": "code",
   "execution_count": null,
   "metadata": {},
   "outputs": [],
   "source": []
  }
 ],
 "metadata": {
  "kernelspec": {
   "display_name": "Python 3",
   "language": "python",
   "name": "python3"
  },
  "language_info": {
   "codemirror_mode": {
    "name": "ipython",
    "version": 3
   },
   "file_extension": ".py",
   "mimetype": "text/x-python",
   "name": "python",
   "nbconvert_exporter": "python",
   "pygments_lexer": "ipython3",
   "version": "3.7.1"
  }
 },
 "nbformat": 4,
 "nbformat_minor": 2
}
